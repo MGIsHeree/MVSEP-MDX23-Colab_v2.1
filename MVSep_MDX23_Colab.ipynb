{
  "cells": [
    {
      "cell_type": "markdown",
      "metadata": {
        "id": "TkR0saXIcvyC"
      },
      "source": [
        "# MVSep MDX23 Colab\n",
        "Colab version of MDX23 algorithm from [MVSEP.COM](https://www.mvsep.com) with some tweaks:\n",
        "* updated with new voc_ft & UVR-MDX-Instr-HQ3 models\n",
        "* folder batch processing (all audio files inside provided input folder will be separated; don't paste filenames in this Colab - only folder paths allowed)\n",
        "* fixed high frequency bleed in vocals\n",
        "* fixed volume compensation for MDX models\n",
        "* it receives input files from temp Colab disk by default here, not GDrive (open file manager in the left to upload a file), but you can change it to GDrive by setting /content/drive/MyDrive/input \n",
        "* For a bit better quality, chunks_size can be set to 500K for ~2:41-3:46(?) tracks - 500K fails with 5 minute tracks\n",
        "* Both overlaps set to 0.8 is (still) a good balance between duration and quality, but slower\n",
        "* If you use 48kHz file instead of 44kHz, it will show a lot of warinings (e.g. PySoundFile failed), but separation will be successful\n", 
        "\n",
        "Credits:\n",
        "* [https://github.com/ZFTurbo/MVSEP-MDX23-music-separation-model](https://github.com/ZFTurbo/MVSEP-MDX23-music-separation-model)\n",
        "* Models by [Demucs](https://github.com/facebookresearch/demucs), [UVR GUI Team](https://github.com/Anjok07/ultimatevocalremovergui) - Anjok / Aufr33 & [Kimberley Jensen](https://github.com/KimberleyJensen)\n",
        "* Adaptation & tweaks by [jarredou](https://github.com/jarredou/MVSEP-MDX23-Colab_v2/)"
      ]
    },
    {
      "cell_type": "code",
      "execution_count": null,
      "metadata": {
        "cellView": "form",
        "id": "uWX5WOqjU0QC"
      },
      "outputs": [],
      "source": [
        "#@markdown #Installation\n",
        "#@markdown *Run this cell to install MVSep-MDX23*\n",
        "print('Installing... This will take 1 minute...')\n",
        "%cd /content\n",
        "from google.colab import drive\n",
        "drive.mount('/content/drive')\n",
        "!git clone https://github.com/deton24/MVSEP-MDX23-Colab_v2.1 &> /dev/null\n",
        "%cd /content/MVSEP-MDX23-Colab_v2.1\n",
        "!pip install -r requirements.txt &> /dev/null\n",
        "print('Installation done !')"
      ]
    },
    {
      "cell_type": "code",
      "execution_count": null,
      "metadata": {
        "cellView": "form",
        "id": "V7n1nXKsU4sd"
      },
      "outputs": [],
      "source": [
        "#@markdown #Separation\n",
        "from pathlib import Path\n",
        "import glob\n",
        "\n",
        "%cd /content/MVSEP-MDX23-Colab_v2.1\n",
        "def console(t):\n",
        "    get_ipython().system(t)\n",
        "\n",
        "#file_path = '/content/drive/MyDrive/mvsep_dataset/' #@param {type:\"string\"}\n",
        "folder_path = '/content/MVSEP-MDX23-Colab_v2.1/input' #@param {type:\"string\"}\n",
        "output_folder = '/content/drive/MyDrive/output' #@param {type:\"string\"}\n",
        "overlap_large = 0.6 #@param {type:\"slider\", min:0.1, max:1, step:0.05}\n",
        "overlap_small = 0.5 #@param {type:\"slider\", min:0.1, max:1, step:0.05}\n",
        "\n",
        "#@markdown *Use lower chunk_size if you have memory errors*\n",
        "chunk_size = 300000 #@param {type:\"slider\", min:100000, max:1000000, step:100000}\n",
        "\n",
        "#console(f'python inference.py --large_gpu --chunk_size {chunk_size} --input_audio \"{file_path}\" --output_folder \"./results/{filename}\"')\n",
        "for file_path in glob.glob(folder_path+\"/*\"):\n",
        "  filename =  Path(file_path).stem\n",
        "  Path(output_folder,filename).mkdir(parents=True, exist_ok=True)\n",
        "  console(f'python inference.py --large_gpu --chunk_size {chunk_size} --input_audio \"{file_path}\" --overlap_large {overlap_large} --overlap_small {overlap_small} --output_folder \"{output_folder}\"/\"{filename}\"')\n",
        ""
      ]
    },
    {
      "cell_type": "code",
      "source": [
        "#@title (optional) Mixdown to 64 bit (might be slightly better instrum2 equivalent (32-bit float) - can be placebo in most cases; change it to pcm_s16le for 16 bit). Write file name without input file extension in paths below\n",
        "!ffmpeg -i \"/content/drive/MyDrive/output/your track/your track_bass.wav\" -i \"/content/drive/MyDrive/output/your track/your track_other.wav\" -i \"/content/drive/MyDrive/output/your track/your track_drums.wav\" -filter_complex \"[0]volume=3[a];[1]volume=3[b];[2]volume=3[c];[a][b][c]amix=inputs=3:duration=longest\" -c:a pcm_f64le '/content/drive/MyDrive/output/output.wav'"
      ],
      "metadata": {
        "id": "0Ds39boPN-x5"
      },
      "execution_count": null,
      "outputs": []
    }
  ],
  "metadata": {
    "accelerator": "GPU",
    "colab": {
      "gpuType": "T4",
      "provenance": []
    },
    "gpuClass": "standard",
    "kernelspec": {
      "display_name": "Python 3",
      "name": "python3"
    },
    "language_info": {
      "name": "python"
    }
  },
  "nbformat": 4,
  "nbformat_minor": 0
}
